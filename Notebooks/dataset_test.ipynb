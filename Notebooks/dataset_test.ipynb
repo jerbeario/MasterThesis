{
 "cells": [
  {
   "cell_type": "code",
   "execution_count": null,
   "metadata": {},
   "outputs": [],
   "source": [
    "# import WIP.dataset\n",
    "import numpy as np\n",
    "from HazardMapper.dataset import HazardDataset, index1d_to_2d, index2d_to_1d"
   ]
  },
  {
   "cell_type": "code",
   "execution_count": 7,
   "metadata": {},
   "outputs": [],
   "source": [
    "hazard = 'test'\n",
    "variables = ['test']\n",
    "patch_size = 5\n",
    "dataset = HazardDataset(hazard=hazard, patch_size=patch_size, variables=variables)\n",
    "wildfire = np.load('Input/Europe/npy_arrays/masked_wildfire_Europe.npy')\n"
   ]
  },
  {
   "cell_type": "code",
   "execution_count": 11,
   "metadata": {},
   "outputs": [],
   "source": [
    "label_1 = np.argwhere(wildfire > 0)\n",
    "\n",
    "#check that all the labels in the dataset are 1\n",
    "positive_indices = index2d_to_1d(label_1)\n",
    "\n",
    "for idx in positive_indices:\n",
    "    assert dataset[idx][1] == 1, f\"Label at index {idx} is not 1\""
   ]
  }
 ],
 "metadata": {
  "kernelspec": {
   "display_name": "MasterThesis",
   "language": "python",
   "name": "python3"
  },
  "language_info": {
   "codemirror_mode": {
    "name": "ipython",
    "version": 3
   },
   "file_extension": ".py",
   "mimetype": "text/x-python",
   "name": "python",
   "nbconvert_exporter": "python",
   "pygments_lexer": "ipython3",
   "version": "3.12.9"
  }
 },
 "nbformat": 4,
 "nbformat_minor": 2
}
